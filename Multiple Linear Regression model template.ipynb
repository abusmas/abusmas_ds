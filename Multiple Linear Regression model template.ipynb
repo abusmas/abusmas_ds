{
 "cells": [
  {
   "cell_type": "code",
   "execution_count": null,
   "metadata": {},
   "outputs": [],
   "source": [
    "import numpy as np\n",
    "import matplotlib.pyplot as plt\n",
    "import pandas as pd\n",
    "\n",
    "#import data set\n",
    "\n",
    "dataset = pd.read_csv(\"name_of_file.csv\")\n",
    "X = dataset.iloc[].values\n",
    "y = dataset.iloc[].values\n",
    "\n",
    "#label encoding \n",
    "\n",
    "from sklearn.preprocessing import LabelEncoder, OneHotEncoder\n",
    "labelencoder_X = LabelEncoder()\n",
    "X[] = labelEncoder_X.fit_transform(X[])\n",
    "onehotencoder = OneHotEncoder(categorical features = [])\n",
    "X = onehotencoder.fit_transform(X).toarray()\n",
    "\n",
    "#avoiding dummy variable trap\n",
    "X = X[:]\n",
    "\n",
    "#split data to train and test data\n",
    "\n",
    "from sklearn.cross validation import train_test_split\n",
    "X_train, X_test, y_train, y_test = train_test_split(X,y text_size = 0.2, random_state = 0)\n",
    "\n",
    "\n",
    "#fit the training data to model\n",
    "\n",
    "from sklear.linear_model import LinearRegression\n",
    "regressor = LinearRegression()\n",
    "regressor.fit(X_train,y_train)\n",
    "\n",
    "\n",
    "#predict the test data\n",
    "y_pred = regressor.predict(x_test)\n",
    "\n",
    "#visualize the result\n",
    "\n",
    "plt.scatter(X_train, y_train, color = 'red')\n",
    "plt.plot(X_train, regressor.predict(X_train), color = 'blue')\n",
    "plt.title ('test only lin reg')\n",
    "plt.xlabel( 'x axis')\n",
    "plt.ylabel( 'y axis')\n",
    "plt.show()"
   ]
  }
 ],
 "metadata": {
  "kernelspec": {
   "display_name": "Python 3",
   "language": "python",
   "name": "python3"
  },
  "language_info": {
   "codemirror_mode": {
    "name": "ipython",
    "version": 3
   },
   "file_extension": ".py",
   "mimetype": "text/x-python",
   "name": "python",
   "nbconvert_exporter": "python",
   "pygments_lexer": "ipython3",
   "version": "3.7.1"
  }
 },
 "nbformat": 4,
 "nbformat_minor": 2
}
