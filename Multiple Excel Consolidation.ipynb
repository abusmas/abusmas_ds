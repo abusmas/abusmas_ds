{
 "cells": [
  {
   "cell_type": "code",
   "execution_count": null,
   "metadata": {},
   "outputs": [],
   "source": [
    "\n",
    "  \n",
    "import pandas as pd\n",
    "import numpy as np\n",
    "import glob\n",
    "import os\n",
    "\n",
    "# date object of today's date\n",
    "from datetime import date\n",
    " \n",
    "\n",
    "os.getcwd()\n",
    "os.chdir('C:\\\\Users\\\\jabusmas\\\\Desktop\\\\Python Project')\n",
    "\n",
    "#ENTER Week number,Month number HERE********************\n",
    "Weeknum = 2\n",
    "Monthnumber = 12\n",
    "Report_type = \"special*.xlsx\"\n",
    "Report_output_name = 'special_ALL.xlsx'\n",
    "\n",
    "#*******************************************\n",
    "#consolidate multiple excel files\n",
    "\n",
    "all_data = pd.DataFrame()\n",
    "\n",
    "\n",
    "for f in glob.glob(Report_type):\n",
    "    df = pd.read_excel(f)\n",
    "    all_data = all_data.append(df,ignore_index=True)\n",
    "\n",
    "\n",
    "#append month number\n",
    "\n",
    "all_data['mymonth'] = pd.DatetimeIndex(all_data['Date']).month\n",
    "\n",
    "\n",
    "\n",
    "filtered1 = all_data[\"Week #\"] == Weeknum\n",
    "filtered2 = all_data.mymonth == Monthnumber\n",
    "filtered_combined = all_data[filtered1 & filtered2]\n",
    "filtered_combined = filtered_combined.drop('mymonth',1)\n",
    "\n",
    "# Create a Pandas Excel writer using XlsxWriter as the engine.\n",
    "writer = pd.ExcelWriter(Report_output_name, engine='xlsxwriter')\n",
    "\n",
    "# Convert the dataframe to an XlsxWriter Excel object.\n",
    "filtered_combined.to_excel(writer,sheet_name='Sheet1')\n",
    "\n",
    "writer.save()\n"
   ]
  }
 ],
 "metadata": {
  "kernelspec": {
   "display_name": "Python 3",
   "language": "python",
   "name": "python3"
  },
  "language_info": {
   "codemirror_mode": {
    "name": "ipython",
    "version": 3
   },
   "file_extension": ".py",
   "mimetype": "text/x-python",
   "name": "python",
   "nbconvert_exporter": "python",
   "pygments_lexer": "ipython3",
   "version": "3.7.1"
  }
 },
 "nbformat": 4,
 "nbformat_minor": 2
}
